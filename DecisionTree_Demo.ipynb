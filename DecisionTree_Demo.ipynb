{
 "cells": [
  {
   "cell_type": "code",
   "execution_count": 89,
   "id": "5251ff7c-e30e-4abb-8936-f15b9274d3e6",
   "metadata": {},
   "outputs": [],
   "source": [
    "%matplotlib inline\n",
    "import pandas as pd\n",
    "import torch\n",
    "import numpy as np\n",
    "from d2l import torch as d2l"
   ]
  },
  {
   "cell_type": "code",
   "execution_count": 458,
   "id": "e06584eb-9b1c-4719-8601-a4aceb6bcfdd",
   "metadata": {},
   "outputs": [],
   "source": [
    "class Tree:\n",
    "    def __init__(self, out, att):\n",
    "        self.out = out\n",
    "        self.att = att\n",
    "        self.children = {}"
   ]
  },
  {
   "cell_type": "code",
   "execution_count": 459,
   "id": "59d310d2-45da-4470-925e-74c0f0f0e296",
   "metadata": {},
   "outputs": [],
   "source": [
    "from math import log\n",
    "def entropy(labels):\n",
    "    cnt = [0, 0]\n",
    "    for label in labels:\n",
    "        cnt[label] += 1\n",
    "    log2 = lambda x:log(x)/log(2)\n",
    "    ent = 0.0\n",
    "    for c in cnt:\n",
    "        if not c == 0:\n",
    "            ent -= log2(float(c/labels.size))*c/labels.size\n",
    "    return ent"
   ]
  },
  {
   "cell_type": "code",
   "execution_count": 460,
   "id": "871ad4fd-0992-4651-a877-c153c391c80e",
   "metadata": {},
   "outputs": [],
   "source": [
    "def divide_data(features, labels, att):\n",
    "    att_unique = features[att].unique()\n",
    "    for a in att_unique:\n",
    "        feature = features[features[att]==a]\n",
    "        label = labels[feature.index]\n",
    "        yield feature, label"
   ]
  },
  {
   "cell_type": "code",
   "execution_count": 461,
   "id": "425aac89-f690-4812-b87c-e74054dd5caa",
   "metadata": {},
   "outputs": [],
   "source": [
    "def info_gain(features, labels, att):\n",
    "    ent = entropy(labels)\n",
    "    for feature, label in divide_data(features, labels, att):\n",
    "        div_ent = entropy(label)\n",
    "        ent -= div_ent*feature.size/features.size\n",
    "    return ent"
   ]
  },
  {
   "cell_type": "code",
   "execution_count": 462,
   "id": "ff94340c-8abc-4123-b556-6d0e6bc10f9a",
   "metadata": {},
   "outputs": [],
   "source": [
    "def select_best_att(features, labels):\n",
    "    column = features.columns\n",
    "    max_gain = 0\n",
    "    best_att = \"\"\n",
    "    for c in column:\n",
    "        gain = info_gain(features, labels, c)\n",
    "        if gain > max_gain:\n",
    "            max_gain = gain\n",
    "            best_att = c\n",
    "    return best_att"
   ]
  },
  {
   "cell_type": "code",
   "execution_count": 463,
   "id": "a6fd6dd7-7abb-4754-b248-048663b6696a",
   "metadata": {},
   "outputs": [],
   "source": [
    "def check_eq(features):\n",
    "    df = features.iloc[0, :]\n",
    "    for i in range(1, features.size):\n",
    "        tmp_df = features.iloc[i, :]\n",
    "        if not tmp_df.equals(df):\n",
    "            return False\n",
    "    return True"
   ]
  },
  {
   "cell_type": "code",
   "execution_count": 464,
   "id": "6053fa21-b78e-4566-af0e-c29ddc96df8b",
   "metadata": {},
   "outputs": [],
   "source": [
    "def cnt_label(labels):\n",
    "    cnt = 0\n",
    "    for label in labels:\n",
    "        if label == 1:\n",
    "            cnt += 1\n",
    "    if cnt >= labels.size/2:\n",
    "        return 1\n",
    "    else:\n",
    "        return 0"
   ]
  },
  {
   "cell_type": "code",
   "execution_count": 471,
   "id": "ebe5e370-3b8a-4c74-91e6-5eb1eed1388f",
   "metadata": {},
   "outputs": [],
   "source": [
    "def build_dt(features, labels, out_label)->Tree:\n",
    "    if np.all(labels == labels[0]):\n",
    "        return Tree(labels[0], \"\")\n",
    "    elif check_eq(features):\n",
    "        return Tree(cnt_label(labels), \"\")\n",
    "    else:\n",
    "        att = select_best_att(features, labels)\n",
    "        node = Tree(2, att)\n",
    "        value = features[att].unique()\n",
    "        for v in value:\n",
    "            node.children[v] = build_dt(features.drop(columns=att), labels, out_label)\n",
    "        return node"
   ]
  },
  {
   "cell_type": "code",
   "execution_count": 504,
   "id": "b1709f86-9f17-4fc6-8cea-c6e7bcf78bd7",
   "metadata": {},
   "outputs": [],
   "source": [
    "def decide_label(feature, tree):\n",
    "    if not tree.out == 2:\n",
    "        return tree.out\n",
    "    else:\n",
    "        return decide_label(feature, tree.children[feature[tree.att]])"
   ]
  },
  {
   "cell_type": "code",
   "execution_count": 505,
   "id": "18d22f53-8d73-4574-b0c2-3b794f198ede",
   "metadata": {},
   "outputs": [],
   "source": [
    "def train(features, labels, out_label):\n",
    "    return build_dt(features, labels, out_label)"
   ]
  },
  {
   "cell_type": "code",
   "execution_count": 506,
   "id": "2ce52634-1234-4eca-a8f4-85c34251f299",
   "metadata": {},
   "outputs": [],
   "source": [
    "def predict(features, tree):\n",
    "    for i in range(0, len(features)):\n",
    "        feature = features.iloc[i, 1:]\n",
    "        label = decide_label(feature, tree)\n",
    "        print(\"feature:\", feature, \", label:\", label)"
   ]
  },
  {
   "cell_type": "code",
   "execution_count": 507,
   "id": "ef0d79b4-a0c5-4fc6-9d39-a6c9839bc122",
   "metadata": {},
   "outputs": [],
   "source": [
    "data = pd.read_csv(\"watermelon.CSV\", encoding=\"GBK\")\n",
    "features, labels = data.iloc[:, 1:7], data.iloc[:, 7]\n",
    "out_label = 0"
   ]
  },
  {
   "cell_type": "code",
   "execution_count": 508,
   "id": "4f53911d-e6c7-4870-b1b0-7ac54b1ac514",
   "metadata": {},
   "outputs": [],
   "source": [
    "DTree = train(features, labels, out_label)"
   ]
  },
  {
   "cell_type": "code",
   "execution_count": 509,
   "id": "49c7975e-211e-4731-bb36-da27cbacb55d",
   "metadata": {},
   "outputs": [
    {
     "name": "stdout",
     "output_type": "stream",
     "text": [
      "feature: 色泽    1\n",
      "根蒂    0\n",
      "敲声    0\n",
      "纹理    0\n",
      "脐部    1\n",
      "触感    1\n",
      "Name: 0, dtype: int64 , label: 0\n",
      "feature: 色泽    2\n",
      "根蒂    1\n",
      "敲声    0\n",
      "纹理    1\n",
      "脐部    0\n",
      "触感    0\n",
      "Name: 1, dtype: int64 , label: 0\n",
      "feature: 色泽    0\n",
      "根蒂    0\n",
      "敲声    1\n",
      "纹理    1\n",
      "脐部    1\n",
      "触感    1\n",
      "Name: 2, dtype: int64 , label: 0\n"
     ]
    }
   ],
   "source": [
    "test_data = pd.read_csv(\"test.CSV\", encoding=\"GBK\")\n",
    "predict(test_data, DTree)"
   ]
  }
 ],
 "metadata": {
  "kernelspec": {
   "display_name": "Python 3 (ipykernel)",
   "language": "python",
   "name": "python3"
  },
  "language_info": {
   "codemirror_mode": {
    "name": "ipython",
    "version": 3
   },
   "file_extension": ".py",
   "mimetype": "text/x-python",
   "name": "python",
   "nbconvert_exporter": "python",
   "pygments_lexer": "ipython3",
   "version": "3.9.18"
  }
 },
 "nbformat": 4,
 "nbformat_minor": 5
}
